{
 "cells": [
  {
   "cell_type": "markdown",
   "metadata": {},
   "source": [
    "# 1. Two Sum \n",
    "__Easy__\n",
    "\n",
    "Given an array of integers nums and an integer target, return indices of the two numbers such that they add up to target. \n",
    "You may assume that each input would have exactly one solution, and you may not use the same element twice. \n",
    "You can return the answer in any order.\n",
    "\n",
    "Input: nums = [2,7,11,15], target = 9\n",
    "Output: [0,1]\n",
    "Explanation: Because nums[0] + nums[1] == 9, we return [0, 1].\n",
    "\n",
    "Input: nums = [3,2,4], target = 6\n",
    "Output: [1,2]\n",
    "\n",
    "Input: nums = [3,3], target = 6\n",
    "Output: [0,1]\n",
    " "
   ]
  },
  {
   "cell_type": "code",
   "execution_count": null,
   "metadata": {},
   "outputs": [],
   "source": [
    "class Solution:\n",
    "    def twoSum(self, nums: List[int], target: int) -> List[int]:\n",
    "        numMap = {}\n",
    "        # 这里如果用for i in nums，遍历的就是每个列表元素\n",
    "        for i in range(len(nums)):\n",
    "            compensate = target - nums[i]\n",
    "            if compensate in numMap:\n",
    "                return [numMap[compensate], i]\n",
    "            numMap[nums[i]] = i\n",
    "            \n"
   ]
  },
  {
   "cell_type": "markdown",
   "metadata": {},
   "source": [
    "# 650. 2 Keys Keyboard\n",
    "\n",
    "__Medium__\n",
    "\n",
    "There is only one character 'A' on the screen of a notepad. You can perform one of two operations on this notepad for each step:\n",
    "\n",
    "Copy All: You can copy all the characters present on the screen (a partial copy is not allowed).\n",
    "Paste: You can paste the characters which are copied last time.\n",
    "Given an integer n, return the minimum number of operations to get the character 'A' exactly n times on the screen.\n",
    "\n",
    "Input: n = 3\n",
    "Output: 3\n",
    "Explanation: Initially, we have one character 'A'.\n",
    "In step 1, we use Copy All operation.\n",
    "In step 2, we use Paste operation to get 'AA'.\n",
    "In step 3, we use Paste operation to get 'AAA'.\n",
    "\n",
    "Input: n = 1\n",
    "Output: 0"
   ]
  },
  {
   "cell_type": "code",
   "execution_count": null,
   "metadata": {},
   "outputs": [],
   "source": [
    "class Solution:\n",
    "    def minSteps(self, n: int) -> int:\n",
    "        # float('inf') as an integer to represent it as infinity.\n",
    "        dp = [float('inf')] * (n+1)\n",
    "        dp[1] = 0\n",
    "\n",
    "        for i in range(2, n+1):\n",
    "            for j in range(1, int(i**0.5)+1):\n",
    "                if i % j == 0:\n",
    "                    # i = i * (i//j)\n",
    "                    dp[i] = min(dp[i], dp[j] + i//j)\n",
    "                    dp[i] = min(dp[i], dp[i//j] + j)\n",
    "        \n",
    "        return dp[n]"
   ]
  },
  {
   "cell_type": "markdown",
   "metadata": {},
   "source": [
    "### 动态规划（Dynamic Programming，DP）\n",
    "\n",
    "是一种解决复杂问题的优化方法，它通过将问题分解成较小的子问题，并通过保存子问题的结果来避免重复计算，从而提高计算效率。动态规划特别适用于具有重叠子问题和最优子结构性质的问题。\n",
    "\n",
    "动态规划的基本概念\n",
    "\n",
    "__1. 重叠子问题（Overlapping Subproblems）：__\n",
    "\n",
    "问题可以分解为许多重复出现的子问题。动态规划通过保存这些子问题的结果来避免重复计算，从而节省时间。\n",
    "\n",
    "__2. 最优子结构（Optimal Substructure）：__\n",
    "\n",
    "问题的最优解可以由其子问题的最优解构成。如果一个问题的最优解包含了子问题的最优解，那么这个问题就是具有最优子结构的。"
   ]
  }
 ],
 "metadata": {
  "language_info": {
   "name": "python"
  }
 },
 "nbformat": 4,
 "nbformat_minor": 2
}

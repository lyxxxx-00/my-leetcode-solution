{
 "cells": [
  {
   "cell_type": "markdown",
   "metadata": {},
   "source": [
    "# 66. Plus One\n",
    "You are given a large integer represented as an integer array digits, where each digits[i] is the ith digit of the integer. The digits are ordered from most significant to least significant in left-to-right order. The large integer does not contain any leading 0's.\n",
    "\n",
    "Increment the large integer by one and return the resulting array of digits.\n",
    "\n",
    "Input: digits = [1,2,3]\n",
    "Output: [1,2,4]\n",
    "Explanation: The array represents the integer 123.\n",
    "Incrementing by one gives 123 + 1 = 124.\n",
    "Thus, the result should be [1,2,4].\n",
    "\n",
    "Input: digits = [4,3,2,1]\n",
    "Output: [4,3,2,2]\n",
    "Explanation: The array represents the integer 4321.\n",
    "Incrementing by one gives 4321 + 1 = 4322.\n",
    "Thus, the result should be [4,3,2,2].\n",
    "\n",
    "Input: digits = [9]\n",
    "Output: [1,0]\n",
    "Explanation: The array represents the integer 9.\n",
    "Incrementing by one gives 9 + 1 = 10.\n",
    "Thus, the result should be [1,0]."
   ]
  },
  {
   "cell_type": "code",
   "execution_count": null,
   "metadata": {},
   "outputs": [],
   "source": [
    "class Solution:\n",
    "  def plusone(self, digits: list[int]) -> list[int]:\n",
    "    # Convert the list of integers to a string: ''.join(map(str, digits))\n",
    "    n = len(digits)\n",
    "    # range(start, stop[, step])\n",
    "    for i in range(n-1, -1, -1):\n",
    "      if digits[i] < 9:\n",
    "        digits[i] += 1\n",
    "        return digits\n",
    "      digits[i] = 0\n",
    "    return [1] + [0] * n"
   ]
  },
  {
   "cell_type": "markdown",
   "metadata": {},
   "source": [
    "# 67. Add Binary\n",
    "Given two binary strings a and b, return their sum as a binary string.\n",
    "\n",
    "Input: a = \"11\", b = \"1\"\n",
    "Output: \"100\"\n",
    "\n",
    "Input: a = \"1010\", b = \"1011\"\n",
    "Output: \"10101\""
   ]
  },
  {
   "cell_type": "code",
   "execution_count": null,
   "metadata": {},
   "outputs": [],
   "source": [
    "class Solution:\n",
    "    def addBinary(self, a: str, b: str) -> str:\n",
    "        # 二进制转十进制\n",
    "        decimalA = int(a, 2)\n",
    "        decimalB = int(b, 2)\n",
    "        sum = decimalA + decimalB\n",
    "        # 十进制转二进制\n",
    "        # bin() 返回的结果是以 '0b' 开头的字符串，表示它是二进制数。\n",
    "        # string切片保留切片的位置，01...-2-1\n",
    "        sumBinary = bin(sum)[2:]\n",
    "        return sumBinary"
   ]
  },
  {
   "cell_type": "markdown",
   "metadata": {},
   "source": [
    "对于二进制数 1101：\n",
    "从右到左，二进制位分别是：1、0、1、1\n",
    "它们的权值分别是：2^0, 2^1, 2^2, 2^3\n",
    "1 * 2^3 + 1 * 2^2 + 0 * 2^1 + 1 * 2^0\n",
    "= 1 * 8 + 1 * 4 + 0 * 2 + 1 * 1\n",
    "= 8 + 4 + 0 + 1\n",
    "= 13\n",
    "\n",
    "将十进制数 13 转换为二进制\n",
    "13 除以 2，商为 6，余数为 1\n",
    "6 除以 2，商为 3，余数为 0\n",
    "3 除以 2，商为 1，余数为 1\n",
    "1 除以 2，商为 0，余数为 1"
   ]
  }
 ],
 "metadata": {
  "kernelspec": {
   "display_name": "Python 3",
   "language": "python",
   "name": "python3"
  },
  "language_info": {
   "name": "python",
   "version": "3.12.3"
  }
 },
 "nbformat": 4,
 "nbformat_minor": 2
}

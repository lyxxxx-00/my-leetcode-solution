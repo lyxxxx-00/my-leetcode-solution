{
 "cells": [
  {
   "cell_type": "markdown",
   "metadata": {},
   "source": [
    "# 1140. Stone Game II\n",
    "\n",
    "__Medium__\n",
    "\n",
    "Alice and Bob continue their games with piles of stones.  There are a number of piles arranged in a row, and each pile has a positive integer number of stones piles[i].  The objective of the game is to end with the most stones. \n",
    "\n",
    "Alice and Bob take turns, with Alice starting first.  Initially, M = 1.\n",
    "\n",
    "On each player's turn, that player can take all the stones in the first X remaining piles, where 1 <= X <= 2M.  Then, we set M = max(M, X).\n",
    "\n",
    "The game continues until all the stones have been taken.\n",
    "\n",
    "Assuming Alice and Bob play optimally, return the maximum number of stones Alice can get.\n",
    "\n",
    "Input: piles = [2,7,9,4,4]\n",
    "Output: 10\n",
    "Explanation:  If Alice takes one pile at the beginning, Bob takes two piles, then Alice takes 2 piles again. Alice can get 2 + 4 + 4 = 10 piles in total. If Alice takes two piles at the beginning, then Bob can take all three piles left. In this case, Alice get 2 + 7 = 9 piles in total. So we return 10 since it's larger. \n",
    "\n",
    "Input: piles = [1,2,3,4,5,100]\n",
    "Output: 104"
   ]
  },
  {
   "cell_type": "code",
   "execution_count": null,
   "metadata": {},
   "outputs": [],
   "source": [
    "class Solution:\n",
    "    def stoneGameII(self, piles: List[int]) -> int:\n",
    "        n = len(piles)\n",
    "        # two-demensional array\n",
    "        dp = [[0] * (n+1) for _ in range(n)]\n",
    "\n",
    "        # 计算从后到前得到的全部石头数\n",
    "        suffix_sums = [0] * n\n",
    "        suffix_sums[-1] = piles[-1]\n",
    "        for i in range(n-2, -1, -1):\n",
    "            suffix_sums[i] = suffix_sums[i+1] + piles[i]\n",
    "\n",
    "        # dp\n",
    "        for i in range(n-1, -1, -1):\n",
    "            for M in range(1, n+1):\n",
    "                if i + 2 * M >= n:\n",
    "                    dp[i][M] = suffix_sums[i]\n",
    "                else:\n",
    "                    for X in range(1, 2 * M + 1):\n",
    "                        dp[i][M] = max(dp[i][M], suffix_sums[i] - dp[i+X][max(M, X)])\n",
    "\n",
    "        return dp[0][1]        "
   ]
  },
  {
   "cell_type": "markdown",
   "metadata": {},
   "source": [
    "# 58. Length of Last Word\n",
    "\n",
    "__Easy__\n",
    "\n",
    "Given a string s consisting of words and spaces, return the length of the last word in the string.\n",
    "\n",
    "A word is a maximal \n",
    "substring\n",
    " consisting of non-space characters only.\n",
    "\n",
    "Input: s = \"Hello World\"\n",
    "Output: 5\n",
    "Explanation: The last word is \"World\" with length 5.\n",
    "\n",
    "Input: s = \"   fly me   to   the moon  \"\n",
    "Output: 4\n",
    "Explanation: The last word is \"moon\" with length 4."
   ]
  },
  {
   "cell_type": "code",
   "execution_count": null,
   "metadata": {},
   "outputs": [],
   "source": [
    "class Solution:\n",
    "    def lengthOfLastWord(self, s: str) -> int:\n",
    "        num=0\n",
    "        # The strip() method removes any leading, and trailing whitespaces\n",
    "        sNoSpace = s.strip()\n",
    "        for i in range(len(sNoSpace)-1, -1,-1):\n",
    "            if (sNoSpace[i] == ' '):\n",
    "                break\n",
    "            num +=1\n",
    "        return num"
   ]
  }
 ],
 "metadata": {
  "language_info": {
   "name": "python"
  }
 },
 "nbformat": 4,
 "nbformat_minor": 2
}
